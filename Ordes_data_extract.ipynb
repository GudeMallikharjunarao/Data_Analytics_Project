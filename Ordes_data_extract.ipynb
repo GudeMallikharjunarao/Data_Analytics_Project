{
 "cells": [
  {
   "cell_type": "code",
   "execution_count": 5,
   "id": "initial_id",
   "metadata": {
    "collapsed": true,
    "ExecuteTime": {
     "end_time": "2024-05-30T06:25:47.190525700Z",
     "start_time": "2024-05-30T06:25:41.839474300Z"
    }
   },
   "outputs": [
    {
     "data": {
      "text/plain": "      Order Id  Order Date       Ship Mode    Segment        Country  \\\n0            1  2023-03-01    Second Class   Consumer  United States   \n1            2  2023-08-15    Second Class   Consumer  United States   \n2            3  2023-01-10    Second Class  Corporate  United States   \n3            4  2022-06-18  Standard Class   Consumer  United States   \n4            5  2022-07-13  Standard Class   Consumer  United States   \n...        ...         ...             ...        ...            ...   \n9989      9990  2023-02-18    Second Class   Consumer  United States   \n9990      9991  2023-03-17  Standard Class   Consumer  United States   \n9991      9992  2022-08-07  Standard Class   Consumer  United States   \n9992      9993  2022-11-19  Standard Class   Consumer  United States   \n9993      9994  2022-07-17    Second Class   Consumer  United States   \n\n                 City       State  Postal Code Region         Category  \\\n0           Henderson    Kentucky        42420  South        Furniture   \n1           Henderson    Kentucky        42420  South        Furniture   \n2         Los Angeles  California        90036   West  Office Supplies   \n3     Fort Lauderdale     Florida        33311  South        Furniture   \n4     Fort Lauderdale     Florida        33311  South  Office Supplies   \n...               ...         ...          ...    ...              ...   \n9989            Miami     Florida        33180  South        Furniture   \n9990       Costa Mesa  California        92627   West        Furniture   \n9991       Costa Mesa  California        92627   West       Technology   \n9992       Costa Mesa  California        92627   West  Office Supplies   \n9993      Westminster  California        92683   West  Office Supplies   \n\n     Sub Category       Product Id  cost price  List Price  Quantity  \\\n0       Bookcases  FUR-BO-10001798         240         260         2   \n1          Chairs  FUR-CH-10000454         600         730         3   \n2          Labels  OFF-LA-10000240          10          10         2   \n3          Tables  FUR-TA-10000577         780         960         5   \n4         Storage  OFF-ST-10000760          20          20         2   \n...           ...              ...         ...         ...       ...   \n9989  Furnishings  FUR-FU-10001889          30          30         3   \n9990  Furnishings  FUR-FU-10000747          70          90         2   \n9991       Phones  TEC-PH-10003645         220         260         2   \n9992        Paper  OFF-PA-10004041          30          30         4   \n9993   Appliances  OFF-AP-10002684         210         240         2   \n\n      Discount Percent  \n0                    2  \n1                    3  \n2                    5  \n3                    2  \n4                    5  \n...                ...  \n9989                 4  \n9990                 4  \n9991                 2  \n9992                 3  \n9993                 3  \n\n[9994 rows x 16 columns]",
      "text/html": "<div>\n<style scoped>\n    .dataframe tbody tr th:only-of-type {\n        vertical-align: middle;\n    }\n\n    .dataframe tbody tr th {\n        vertical-align: top;\n    }\n\n    .dataframe thead th {\n        text-align: right;\n    }\n</style>\n<table border=\"1\" class=\"dataframe\">\n  <thead>\n    <tr style=\"text-align: right;\">\n      <th></th>\n      <th>Order Id</th>\n      <th>Order Date</th>\n      <th>Ship Mode</th>\n      <th>Segment</th>\n      <th>Country</th>\n      <th>City</th>\n      <th>State</th>\n      <th>Postal Code</th>\n      <th>Region</th>\n      <th>Category</th>\n      <th>Sub Category</th>\n      <th>Product Id</th>\n      <th>cost price</th>\n      <th>List Price</th>\n      <th>Quantity</th>\n      <th>Discount Percent</th>\n    </tr>\n  </thead>\n  <tbody>\n    <tr>\n      <th>0</th>\n      <td>1</td>\n      <td>2023-03-01</td>\n      <td>Second Class</td>\n      <td>Consumer</td>\n      <td>United States</td>\n      <td>Henderson</td>\n      <td>Kentucky</td>\n      <td>42420</td>\n      <td>South</td>\n      <td>Furniture</td>\n      <td>Bookcases</td>\n      <td>FUR-BO-10001798</td>\n      <td>240</td>\n      <td>260</td>\n      <td>2</td>\n      <td>2</td>\n    </tr>\n    <tr>\n      <th>1</th>\n      <td>2</td>\n      <td>2023-08-15</td>\n      <td>Second Class</td>\n      <td>Consumer</td>\n      <td>United States</td>\n      <td>Henderson</td>\n      <td>Kentucky</td>\n      <td>42420</td>\n      <td>South</td>\n      <td>Furniture</td>\n      <td>Chairs</td>\n      <td>FUR-CH-10000454</td>\n      <td>600</td>\n      <td>730</td>\n      <td>3</td>\n      <td>3</td>\n    </tr>\n    <tr>\n      <th>2</th>\n      <td>3</td>\n      <td>2023-01-10</td>\n      <td>Second Class</td>\n      <td>Corporate</td>\n      <td>United States</td>\n      <td>Los Angeles</td>\n      <td>California</td>\n      <td>90036</td>\n      <td>West</td>\n      <td>Office Supplies</td>\n      <td>Labels</td>\n      <td>OFF-LA-10000240</td>\n      <td>10</td>\n      <td>10</td>\n      <td>2</td>\n      <td>5</td>\n    </tr>\n    <tr>\n      <th>3</th>\n      <td>4</td>\n      <td>2022-06-18</td>\n      <td>Standard Class</td>\n      <td>Consumer</td>\n      <td>United States</td>\n      <td>Fort Lauderdale</td>\n      <td>Florida</td>\n      <td>33311</td>\n      <td>South</td>\n      <td>Furniture</td>\n      <td>Tables</td>\n      <td>FUR-TA-10000577</td>\n      <td>780</td>\n      <td>960</td>\n      <td>5</td>\n      <td>2</td>\n    </tr>\n    <tr>\n      <th>4</th>\n      <td>5</td>\n      <td>2022-07-13</td>\n      <td>Standard Class</td>\n      <td>Consumer</td>\n      <td>United States</td>\n      <td>Fort Lauderdale</td>\n      <td>Florida</td>\n      <td>33311</td>\n      <td>South</td>\n      <td>Office Supplies</td>\n      <td>Storage</td>\n      <td>OFF-ST-10000760</td>\n      <td>20</td>\n      <td>20</td>\n      <td>2</td>\n      <td>5</td>\n    </tr>\n    <tr>\n      <th>...</th>\n      <td>...</td>\n      <td>...</td>\n      <td>...</td>\n      <td>...</td>\n      <td>...</td>\n      <td>...</td>\n      <td>...</td>\n      <td>...</td>\n      <td>...</td>\n      <td>...</td>\n      <td>...</td>\n      <td>...</td>\n      <td>...</td>\n      <td>...</td>\n      <td>...</td>\n      <td>...</td>\n    </tr>\n    <tr>\n      <th>9989</th>\n      <td>9990</td>\n      <td>2023-02-18</td>\n      <td>Second Class</td>\n      <td>Consumer</td>\n      <td>United States</td>\n      <td>Miami</td>\n      <td>Florida</td>\n      <td>33180</td>\n      <td>South</td>\n      <td>Furniture</td>\n      <td>Furnishings</td>\n      <td>FUR-FU-10001889</td>\n      <td>30</td>\n      <td>30</td>\n      <td>3</td>\n      <td>4</td>\n    </tr>\n    <tr>\n      <th>9990</th>\n      <td>9991</td>\n      <td>2023-03-17</td>\n      <td>Standard Class</td>\n      <td>Consumer</td>\n      <td>United States</td>\n      <td>Costa Mesa</td>\n      <td>California</td>\n      <td>92627</td>\n      <td>West</td>\n      <td>Furniture</td>\n      <td>Furnishings</td>\n      <td>FUR-FU-10000747</td>\n      <td>70</td>\n      <td>90</td>\n      <td>2</td>\n      <td>4</td>\n    </tr>\n    <tr>\n      <th>9991</th>\n      <td>9992</td>\n      <td>2022-08-07</td>\n      <td>Standard Class</td>\n      <td>Consumer</td>\n      <td>United States</td>\n      <td>Costa Mesa</td>\n      <td>California</td>\n      <td>92627</td>\n      <td>West</td>\n      <td>Technology</td>\n      <td>Phones</td>\n      <td>TEC-PH-10003645</td>\n      <td>220</td>\n      <td>260</td>\n      <td>2</td>\n      <td>2</td>\n    </tr>\n    <tr>\n      <th>9992</th>\n      <td>9993</td>\n      <td>2022-11-19</td>\n      <td>Standard Class</td>\n      <td>Consumer</td>\n      <td>United States</td>\n      <td>Costa Mesa</td>\n      <td>California</td>\n      <td>92627</td>\n      <td>West</td>\n      <td>Office Supplies</td>\n      <td>Paper</td>\n      <td>OFF-PA-10004041</td>\n      <td>30</td>\n      <td>30</td>\n      <td>4</td>\n      <td>3</td>\n    </tr>\n    <tr>\n      <th>9993</th>\n      <td>9994</td>\n      <td>2022-07-17</td>\n      <td>Second Class</td>\n      <td>Consumer</td>\n      <td>United States</td>\n      <td>Westminster</td>\n      <td>California</td>\n      <td>92683</td>\n      <td>West</td>\n      <td>Office Supplies</td>\n      <td>Appliances</td>\n      <td>OFF-AP-10002684</td>\n      <td>210</td>\n      <td>240</td>\n      <td>2</td>\n      <td>3</td>\n    </tr>\n  </tbody>\n</table>\n<p>9994 rows × 16 columns</p>\n</div>"
     },
     "execution_count": 5,
     "metadata": {},
     "output_type": "execute_result"
    }
   ],
   "source": [
    "import pandas as pd\n",
    "df = pd.read_csv(\"C:\\\\Users\\\\Malli\\\\Downloads\\\\archive (7)\\\\orders.csv\")\n",
    "df"
   ]
  },
  {
   "cell_type": "code",
   "execution_count": 6,
   "outputs": [
    {
     "data": {
      "text/plain": "Index(['Order Id', 'Order Date', 'Ship Mode', 'Segment', 'Country', 'City',\n       'State', 'Postal Code', 'Region', 'Category', 'Sub Category',\n       'Product Id', 'cost price', 'List Price', 'Quantity',\n       'Discount Percent'],\n      dtype='object')"
     },
     "execution_count": 6,
     "metadata": {},
     "output_type": "execute_result"
    }
   ],
   "source": [
    "df.columns"
   ],
   "metadata": {
    "collapsed": false,
    "ExecuteTime": {
     "end_time": "2024-05-30T06:25:47.194747600Z",
     "start_time": "2024-05-30T06:25:47.179744700Z"
    }
   },
   "id": "eb4a8dde523e8cb2"
  },
  {
   "cell_type": "code",
   "execution_count": 7,
   "outputs": [
    {
     "data": {
      "text/plain": "Index(['order_id', 'order_date', 'ship_mode', 'segment', 'country', 'city',\n       'state', 'postal_code', 'region', 'category', 'sub_category',\n       'product_id', 'cost_price', 'list_price', 'quantity',\n       'discount_percent'],\n      dtype='object')"
     },
     "execution_count": 7,
     "metadata": {},
     "output_type": "execute_result"
    }
   ],
   "source": [
    "#rename columns names ..make them lower case and replace space with underscoredf\n",
    "df.columns = df.columns.str.lower()\n",
    "df.columns = df.columns.str.replace(' ','_')\n",
    "df.columns "
   ],
   "metadata": {
    "collapsed": false,
    "ExecuteTime": {
     "end_time": "2024-05-30T06:25:54.279970100Z",
     "start_time": "2024-05-30T06:25:54.257352600Z"
    }
   },
   "id": "eafa2cde1c86d030"
  },
  {
   "cell_type": "code",
   "execution_count": 8,
   "outputs": [],
   "source": [
    "#derive new columns discount , sale price and profit\n",
    "df['discount'] = df['list_price'] * df['discount_percent'] *.01"
   ],
   "metadata": {
    "collapsed": false,
    "ExecuteTime": {
     "end_time": "2024-05-30T06:26:05.534898800Z",
     "start_time": "2024-05-30T06:26:05.520072Z"
    }
   },
   "id": "df2cef8ec7e73c89"
  },
  {
   "cell_type": "code",
   "execution_count": 9,
   "outputs": [],
   "source": [
    " df['sale_price'] = df['list_price'] - df['cost_price']"
   ],
   "metadata": {
    "collapsed": false,
    "ExecuteTime": {
     "end_time": "2024-05-30T06:26:07.182047400Z",
     "start_time": "2024-05-30T06:26:07.166066500Z"
    }
   },
   "id": "30d63998a85ca18b"
  },
  {
   "cell_type": "code",
   "execution_count": 10,
   "outputs": [],
   "source": [
    "df['profit'] = df['sale_price'] - df['cost_price']"
   ],
   "metadata": {
    "collapsed": false,
    "ExecuteTime": {
     "end_time": "2024-05-30T06:26:08.112664700Z",
     "start_time": "2024-05-30T06:26:08.085413400Z"
    }
   },
   "id": "59f392ab6323d724"
  },
  {
   "cell_type": "code",
   "execution_count": 11,
   "outputs": [
    {
     "data": {
      "text/plain": "      order_id  order_date       ship_mode    segment        country  \\\n0            1  2023-03-01    Second Class   Consumer  United States   \n1            2  2023-08-15    Second Class   Consumer  United States   \n2            3  2023-01-10    Second Class  Corporate  United States   \n3            4  2022-06-18  Standard Class   Consumer  United States   \n4            5  2022-07-13  Standard Class   Consumer  United States   \n...        ...         ...             ...        ...            ...   \n9989      9990  2023-02-18    Second Class   Consumer  United States   \n9990      9991  2023-03-17  Standard Class   Consumer  United States   \n9991      9992  2022-08-07  Standard Class   Consumer  United States   \n9992      9993  2022-11-19  Standard Class   Consumer  United States   \n9993      9994  2022-07-17    Second Class   Consumer  United States   \n\n                 city       state  postal_code region         category  \\\n0           Henderson    Kentucky        42420  South        Furniture   \n1           Henderson    Kentucky        42420  South        Furniture   \n2         Los Angeles  California        90036   West  Office Supplies   \n3     Fort Lauderdale     Florida        33311  South        Furniture   \n4     Fort Lauderdale     Florida        33311  South  Office Supplies   \n...               ...         ...          ...    ...              ...   \n9989            Miami     Florida        33180  South        Furniture   \n9990       Costa Mesa  California        92627   West        Furniture   \n9991       Costa Mesa  California        92627   West       Technology   \n9992       Costa Mesa  California        92627   West  Office Supplies   \n9993      Westminster  California        92683   West  Office Supplies   \n\n     sub_category       product_id  cost_price  list_price  quantity  \\\n0       Bookcases  FUR-BO-10001798         240         260         2   \n1          Chairs  FUR-CH-10000454         600         730         3   \n2          Labels  OFF-LA-10000240          10          10         2   \n3          Tables  FUR-TA-10000577         780         960         5   \n4         Storage  OFF-ST-10000760          20          20         2   \n...           ...              ...         ...         ...       ...   \n9989  Furnishings  FUR-FU-10001889          30          30         3   \n9990  Furnishings  FUR-FU-10000747          70          90         2   \n9991       Phones  TEC-PH-10003645         220         260         2   \n9992        Paper  OFF-PA-10004041          30          30         4   \n9993   Appliances  OFF-AP-10002684         210         240         2   \n\n      discount_percent  discount  sale_price  profit  \n0                    2       5.2          20    -220  \n1                    3      21.9         130    -470  \n2                    5       0.5           0     -10  \n3                    2      19.2         180    -600  \n4                    5       1.0           0     -20  \n...                ...       ...         ...     ...  \n9989                 4       1.2           0     -30  \n9990                 4       3.6          20     -50  \n9991                 2       5.2          40    -180  \n9992                 3       0.9           0     -30  \n9993                 3       7.2          30    -180  \n\n[9994 rows x 19 columns]",
      "text/html": "<div>\n<style scoped>\n    .dataframe tbody tr th:only-of-type {\n        vertical-align: middle;\n    }\n\n    .dataframe tbody tr th {\n        vertical-align: top;\n    }\n\n    .dataframe thead th {\n        text-align: right;\n    }\n</style>\n<table border=\"1\" class=\"dataframe\">\n  <thead>\n    <tr style=\"text-align: right;\">\n      <th></th>\n      <th>order_id</th>\n      <th>order_date</th>\n      <th>ship_mode</th>\n      <th>segment</th>\n      <th>country</th>\n      <th>city</th>\n      <th>state</th>\n      <th>postal_code</th>\n      <th>region</th>\n      <th>category</th>\n      <th>sub_category</th>\n      <th>product_id</th>\n      <th>cost_price</th>\n      <th>list_price</th>\n      <th>quantity</th>\n      <th>discount_percent</th>\n      <th>discount</th>\n      <th>sale_price</th>\n      <th>profit</th>\n    </tr>\n  </thead>\n  <tbody>\n    <tr>\n      <th>0</th>\n      <td>1</td>\n      <td>2023-03-01</td>\n      <td>Second Class</td>\n      <td>Consumer</td>\n      <td>United States</td>\n      <td>Henderson</td>\n      <td>Kentucky</td>\n      <td>42420</td>\n      <td>South</td>\n      <td>Furniture</td>\n      <td>Bookcases</td>\n      <td>FUR-BO-10001798</td>\n      <td>240</td>\n      <td>260</td>\n      <td>2</td>\n      <td>2</td>\n      <td>5.2</td>\n      <td>20</td>\n      <td>-220</td>\n    </tr>\n    <tr>\n      <th>1</th>\n      <td>2</td>\n      <td>2023-08-15</td>\n      <td>Second Class</td>\n      <td>Consumer</td>\n      <td>United States</td>\n      <td>Henderson</td>\n      <td>Kentucky</td>\n      <td>42420</td>\n      <td>South</td>\n      <td>Furniture</td>\n      <td>Chairs</td>\n      <td>FUR-CH-10000454</td>\n      <td>600</td>\n      <td>730</td>\n      <td>3</td>\n      <td>3</td>\n      <td>21.9</td>\n      <td>130</td>\n      <td>-470</td>\n    </tr>\n    <tr>\n      <th>2</th>\n      <td>3</td>\n      <td>2023-01-10</td>\n      <td>Second Class</td>\n      <td>Corporate</td>\n      <td>United States</td>\n      <td>Los Angeles</td>\n      <td>California</td>\n      <td>90036</td>\n      <td>West</td>\n      <td>Office Supplies</td>\n      <td>Labels</td>\n      <td>OFF-LA-10000240</td>\n      <td>10</td>\n      <td>10</td>\n      <td>2</td>\n      <td>5</td>\n      <td>0.5</td>\n      <td>0</td>\n      <td>-10</td>\n    </tr>\n    <tr>\n      <th>3</th>\n      <td>4</td>\n      <td>2022-06-18</td>\n      <td>Standard Class</td>\n      <td>Consumer</td>\n      <td>United States</td>\n      <td>Fort Lauderdale</td>\n      <td>Florida</td>\n      <td>33311</td>\n      <td>South</td>\n      <td>Furniture</td>\n      <td>Tables</td>\n      <td>FUR-TA-10000577</td>\n      <td>780</td>\n      <td>960</td>\n      <td>5</td>\n      <td>2</td>\n      <td>19.2</td>\n      <td>180</td>\n      <td>-600</td>\n    </tr>\n    <tr>\n      <th>4</th>\n      <td>5</td>\n      <td>2022-07-13</td>\n      <td>Standard Class</td>\n      <td>Consumer</td>\n      <td>United States</td>\n      <td>Fort Lauderdale</td>\n      <td>Florida</td>\n      <td>33311</td>\n      <td>South</td>\n      <td>Office Supplies</td>\n      <td>Storage</td>\n      <td>OFF-ST-10000760</td>\n      <td>20</td>\n      <td>20</td>\n      <td>2</td>\n      <td>5</td>\n      <td>1.0</td>\n      <td>0</td>\n      <td>-20</td>\n    </tr>\n    <tr>\n      <th>...</th>\n      <td>...</td>\n      <td>...</td>\n      <td>...</td>\n      <td>...</td>\n      <td>...</td>\n      <td>...</td>\n      <td>...</td>\n      <td>...</td>\n      <td>...</td>\n      <td>...</td>\n      <td>...</td>\n      <td>...</td>\n      <td>...</td>\n      <td>...</td>\n      <td>...</td>\n      <td>...</td>\n      <td>...</td>\n      <td>...</td>\n      <td>...</td>\n    </tr>\n    <tr>\n      <th>9989</th>\n      <td>9990</td>\n      <td>2023-02-18</td>\n      <td>Second Class</td>\n      <td>Consumer</td>\n      <td>United States</td>\n      <td>Miami</td>\n      <td>Florida</td>\n      <td>33180</td>\n      <td>South</td>\n      <td>Furniture</td>\n      <td>Furnishings</td>\n      <td>FUR-FU-10001889</td>\n      <td>30</td>\n      <td>30</td>\n      <td>3</td>\n      <td>4</td>\n      <td>1.2</td>\n      <td>0</td>\n      <td>-30</td>\n    </tr>\n    <tr>\n      <th>9990</th>\n      <td>9991</td>\n      <td>2023-03-17</td>\n      <td>Standard Class</td>\n      <td>Consumer</td>\n      <td>United States</td>\n      <td>Costa Mesa</td>\n      <td>California</td>\n      <td>92627</td>\n      <td>West</td>\n      <td>Furniture</td>\n      <td>Furnishings</td>\n      <td>FUR-FU-10000747</td>\n      <td>70</td>\n      <td>90</td>\n      <td>2</td>\n      <td>4</td>\n      <td>3.6</td>\n      <td>20</td>\n      <td>-50</td>\n    </tr>\n    <tr>\n      <th>9991</th>\n      <td>9992</td>\n      <td>2022-08-07</td>\n      <td>Standard Class</td>\n      <td>Consumer</td>\n      <td>United States</td>\n      <td>Costa Mesa</td>\n      <td>California</td>\n      <td>92627</td>\n      <td>West</td>\n      <td>Technology</td>\n      <td>Phones</td>\n      <td>TEC-PH-10003645</td>\n      <td>220</td>\n      <td>260</td>\n      <td>2</td>\n      <td>2</td>\n      <td>5.2</td>\n      <td>40</td>\n      <td>-180</td>\n    </tr>\n    <tr>\n      <th>9992</th>\n      <td>9993</td>\n      <td>2022-11-19</td>\n      <td>Standard Class</td>\n      <td>Consumer</td>\n      <td>United States</td>\n      <td>Costa Mesa</td>\n      <td>California</td>\n      <td>92627</td>\n      <td>West</td>\n      <td>Office Supplies</td>\n      <td>Paper</td>\n      <td>OFF-PA-10004041</td>\n      <td>30</td>\n      <td>30</td>\n      <td>4</td>\n      <td>3</td>\n      <td>0.9</td>\n      <td>0</td>\n      <td>-30</td>\n    </tr>\n    <tr>\n      <th>9993</th>\n      <td>9994</td>\n      <td>2022-07-17</td>\n      <td>Second Class</td>\n      <td>Consumer</td>\n      <td>United States</td>\n      <td>Westminster</td>\n      <td>California</td>\n      <td>92683</td>\n      <td>West</td>\n      <td>Office Supplies</td>\n      <td>Appliances</td>\n      <td>OFF-AP-10002684</td>\n      <td>210</td>\n      <td>240</td>\n      <td>2</td>\n      <td>3</td>\n      <td>7.2</td>\n      <td>30</td>\n      <td>-180</td>\n    </tr>\n  </tbody>\n</table>\n<p>9994 rows × 19 columns</p>\n</div>"
     },
     "execution_count": 11,
     "metadata": {},
     "output_type": "execute_result"
    }
   ],
   "source": [
    "df"
   ],
   "metadata": {
    "collapsed": false,
    "ExecuteTime": {
     "end_time": "2024-05-30T06:26:09.102540700Z",
     "start_time": "2024-05-30T06:26:08.916252100Z"
    }
   },
   "id": "691b22054f0bc8b8"
  },
  {
   "cell_type": "code",
   "execution_count": 12,
   "outputs": [
    {
     "name": "stdout",
     "output_type": "stream",
     "text": [
      "<class 'pandas.core.frame.DataFrame'>\n",
      "RangeIndex: 9994 entries, 0 to 9993\n",
      "Data columns (total 19 columns):\n",
      " #   Column            Non-Null Count  Dtype  \n",
      "---  ------            --------------  -----  \n",
      " 0   order_id          9994 non-null   int64  \n",
      " 1   order_date        9994 non-null   object \n",
      " 2   ship_mode         9993 non-null   object \n",
      " 3   segment           9994 non-null   object \n",
      " 4   country           9994 non-null   object \n",
      " 5   city              9994 non-null   object \n",
      " 6   state             9994 non-null   object \n",
      " 7   postal_code       9994 non-null   int64  \n",
      " 8   region            9994 non-null   object \n",
      " 9   category          9994 non-null   object \n",
      " 10  sub_category      9994 non-null   object \n",
      " 11  product_id        9994 non-null   object \n",
      " 12  cost_price        9994 non-null   int64  \n",
      " 13  list_price        9994 non-null   int64  \n",
      " 14  quantity          9994 non-null   int64  \n",
      " 15  discount_percent  9994 non-null   int64  \n",
      " 16  discount          9994 non-null   float64\n",
      " 17  sale_price        9994 non-null   int64  \n",
      " 18  profit            9994 non-null   int64  \n",
      "dtypes: float64(1), int64(8), object(10)\n",
      "memory usage: 1.4+ MB\n"
     ]
    }
   ],
   "source": [
    "df.info()"
   ],
   "metadata": {
    "collapsed": false,
    "ExecuteTime": {
     "end_time": "2024-05-30T06:26:12.909673100Z",
     "start_time": "2024-05-30T06:26:12.844529500Z"
    }
   },
   "id": "f9dfc0edc8ababde"
  },
  {
   "cell_type": "code",
   "execution_count": 32,
   "outputs": [],
   "source": [
    "df['order_date']=pd.to_datetime(df['order_date'],format=\"%Y-%m-%d\")\n"
   ],
   "metadata": {
    "collapsed": false,
    "ExecuteTime": {
     "end_time": "2024-05-30T06:58:36.967456400Z",
     "start_time": "2024-05-30T06:58:36.850557200Z"
    }
   },
   "id": "293f92624bc5e5d6"
  },
  {
   "cell_type": "code",
   "execution_count": 33,
   "outputs": [
    {
     "name": "stdout",
     "output_type": "stream",
     "text": [
      "<class 'pandas.core.frame.DataFrame'>\n",
      "RangeIndex: 9994 entries, 0 to 9993\n",
      "Data columns (total 16 columns):\n",
      " #   Column        Non-Null Count  Dtype         \n",
      "---  ------        --------------  -----         \n",
      " 0   order_id      9994 non-null   int64         \n",
      " 1   order_date    9994 non-null   datetime64[ns]\n",
      " 2   ship_mode     9993 non-null   object        \n",
      " 3   segment       9994 non-null   object        \n",
      " 4   country       9994 non-null   object        \n",
      " 5   city          9994 non-null   object        \n",
      " 6   state         9994 non-null   object        \n",
      " 7   postal_code   9994 non-null   int64         \n",
      " 8   region        9994 non-null   object        \n",
      " 9   category      9994 non-null   object        \n",
      " 10  sub_category  9994 non-null   object        \n",
      " 11  product_id    9994 non-null   object        \n",
      " 12  quantity      9994 non-null   int64         \n",
      " 13  discount      9994 non-null   float64       \n",
      " 14  sale_price    9994 non-null   int64         \n",
      " 15  profit        9994 non-null   int64         \n",
      "dtypes: datetime64[ns](1), float64(1), int64(5), object(9)\n",
      "memory usage: 1.2+ MB\n"
     ]
    }
   ],
   "source": [
    "df.info()"
   ],
   "metadata": {
    "collapsed": false,
    "ExecuteTime": {
     "end_time": "2024-05-30T06:58:43.859343800Z",
     "start_time": "2024-05-30T06:58:43.536167100Z"
    }
   },
   "id": "26f0b6c160f2244f"
  },
  {
   "cell_type": "code",
   "execution_count": 14,
   "outputs": [],
   "source": [
    "#drop cost price list price and discount percent columns\n",
    "df.drop(columns=['list_price','cost_price','discount_percent'],inplace=True)"
   ],
   "metadata": {
    "collapsed": false,
    "ExecuteTime": {
     "end_time": "2024-05-30T06:26:19.002023300Z",
     "start_time": "2024-05-30T06:26:18.965612100Z"
    }
   },
   "id": "805d28834675d7ca"
  },
  {
   "cell_type": "code",
   "execution_count": 15,
   "outputs": [
    {
     "data": {
      "text/plain": "      order_id order_date       ship_mode    segment        country  \\\n0            1 2023-03-01    Second Class   Consumer  United States   \n1            2 2023-08-15    Second Class   Consumer  United States   \n2            3 2023-01-10    Second Class  Corporate  United States   \n3            4 2022-06-18  Standard Class   Consumer  United States   \n4            5 2022-07-13  Standard Class   Consumer  United States   \n...        ...        ...             ...        ...            ...   \n9989      9990 2023-02-18    Second Class   Consumer  United States   \n9990      9991 2023-03-17  Standard Class   Consumer  United States   \n9991      9992 2022-08-07  Standard Class   Consumer  United States   \n9992      9993 2022-11-19  Standard Class   Consumer  United States   \n9993      9994 2022-07-17    Second Class   Consumer  United States   \n\n                 city       state  postal_code region         category  \\\n0           Henderson    Kentucky        42420  South        Furniture   \n1           Henderson    Kentucky        42420  South        Furniture   \n2         Los Angeles  California        90036   West  Office Supplies   \n3     Fort Lauderdale     Florida        33311  South        Furniture   \n4     Fort Lauderdale     Florida        33311  South  Office Supplies   \n...               ...         ...          ...    ...              ...   \n9989            Miami     Florida        33180  South        Furniture   \n9990       Costa Mesa  California        92627   West        Furniture   \n9991       Costa Mesa  California        92627   West       Technology   \n9992       Costa Mesa  California        92627   West  Office Supplies   \n9993      Westminster  California        92683   West  Office Supplies   \n\n     sub_category       product_id  quantity  discount  sale_price  profit  \n0       Bookcases  FUR-BO-10001798         2       5.2          20    -220  \n1          Chairs  FUR-CH-10000454         3      21.9         130    -470  \n2          Labels  OFF-LA-10000240         2       0.5           0     -10  \n3          Tables  FUR-TA-10000577         5      19.2         180    -600  \n4         Storage  OFF-ST-10000760         2       1.0           0     -20  \n...           ...              ...       ...       ...         ...     ...  \n9989  Furnishings  FUR-FU-10001889         3       1.2           0     -30  \n9990  Furnishings  FUR-FU-10000747         2       3.6          20     -50  \n9991       Phones  TEC-PH-10003645         2       5.2          40    -180  \n9992        Paper  OFF-PA-10004041         4       0.9           0     -30  \n9993   Appliances  OFF-AP-10002684         2       7.2          30    -180  \n\n[9994 rows x 16 columns]",
      "text/html": "<div>\n<style scoped>\n    .dataframe tbody tr th:only-of-type {\n        vertical-align: middle;\n    }\n\n    .dataframe tbody tr th {\n        vertical-align: top;\n    }\n\n    .dataframe thead th {\n        text-align: right;\n    }\n</style>\n<table border=\"1\" class=\"dataframe\">\n  <thead>\n    <tr style=\"text-align: right;\">\n      <th></th>\n      <th>order_id</th>\n      <th>order_date</th>\n      <th>ship_mode</th>\n      <th>segment</th>\n      <th>country</th>\n      <th>city</th>\n      <th>state</th>\n      <th>postal_code</th>\n      <th>region</th>\n      <th>category</th>\n      <th>sub_category</th>\n      <th>product_id</th>\n      <th>quantity</th>\n      <th>discount</th>\n      <th>sale_price</th>\n      <th>profit</th>\n    </tr>\n  </thead>\n  <tbody>\n    <tr>\n      <th>0</th>\n      <td>1</td>\n      <td>2023-03-01</td>\n      <td>Second Class</td>\n      <td>Consumer</td>\n      <td>United States</td>\n      <td>Henderson</td>\n      <td>Kentucky</td>\n      <td>42420</td>\n      <td>South</td>\n      <td>Furniture</td>\n      <td>Bookcases</td>\n      <td>FUR-BO-10001798</td>\n      <td>2</td>\n      <td>5.2</td>\n      <td>20</td>\n      <td>-220</td>\n    </tr>\n    <tr>\n      <th>1</th>\n      <td>2</td>\n      <td>2023-08-15</td>\n      <td>Second Class</td>\n      <td>Consumer</td>\n      <td>United States</td>\n      <td>Henderson</td>\n      <td>Kentucky</td>\n      <td>42420</td>\n      <td>South</td>\n      <td>Furniture</td>\n      <td>Chairs</td>\n      <td>FUR-CH-10000454</td>\n      <td>3</td>\n      <td>21.9</td>\n      <td>130</td>\n      <td>-470</td>\n    </tr>\n    <tr>\n      <th>2</th>\n      <td>3</td>\n      <td>2023-01-10</td>\n      <td>Second Class</td>\n      <td>Corporate</td>\n      <td>United States</td>\n      <td>Los Angeles</td>\n      <td>California</td>\n      <td>90036</td>\n      <td>West</td>\n      <td>Office Supplies</td>\n      <td>Labels</td>\n      <td>OFF-LA-10000240</td>\n      <td>2</td>\n      <td>0.5</td>\n      <td>0</td>\n      <td>-10</td>\n    </tr>\n    <tr>\n      <th>3</th>\n      <td>4</td>\n      <td>2022-06-18</td>\n      <td>Standard Class</td>\n      <td>Consumer</td>\n      <td>United States</td>\n      <td>Fort Lauderdale</td>\n      <td>Florida</td>\n      <td>33311</td>\n      <td>South</td>\n      <td>Furniture</td>\n      <td>Tables</td>\n      <td>FUR-TA-10000577</td>\n      <td>5</td>\n      <td>19.2</td>\n      <td>180</td>\n      <td>-600</td>\n    </tr>\n    <tr>\n      <th>4</th>\n      <td>5</td>\n      <td>2022-07-13</td>\n      <td>Standard Class</td>\n      <td>Consumer</td>\n      <td>United States</td>\n      <td>Fort Lauderdale</td>\n      <td>Florida</td>\n      <td>33311</td>\n      <td>South</td>\n      <td>Office Supplies</td>\n      <td>Storage</td>\n      <td>OFF-ST-10000760</td>\n      <td>2</td>\n      <td>1.0</td>\n      <td>0</td>\n      <td>-20</td>\n    </tr>\n    <tr>\n      <th>...</th>\n      <td>...</td>\n      <td>...</td>\n      <td>...</td>\n      <td>...</td>\n      <td>...</td>\n      <td>...</td>\n      <td>...</td>\n      <td>...</td>\n      <td>...</td>\n      <td>...</td>\n      <td>...</td>\n      <td>...</td>\n      <td>...</td>\n      <td>...</td>\n      <td>...</td>\n      <td>...</td>\n    </tr>\n    <tr>\n      <th>9989</th>\n      <td>9990</td>\n      <td>2023-02-18</td>\n      <td>Second Class</td>\n      <td>Consumer</td>\n      <td>United States</td>\n      <td>Miami</td>\n      <td>Florida</td>\n      <td>33180</td>\n      <td>South</td>\n      <td>Furniture</td>\n      <td>Furnishings</td>\n      <td>FUR-FU-10001889</td>\n      <td>3</td>\n      <td>1.2</td>\n      <td>0</td>\n      <td>-30</td>\n    </tr>\n    <tr>\n      <th>9990</th>\n      <td>9991</td>\n      <td>2023-03-17</td>\n      <td>Standard Class</td>\n      <td>Consumer</td>\n      <td>United States</td>\n      <td>Costa Mesa</td>\n      <td>California</td>\n      <td>92627</td>\n      <td>West</td>\n      <td>Furniture</td>\n      <td>Furnishings</td>\n      <td>FUR-FU-10000747</td>\n      <td>2</td>\n      <td>3.6</td>\n      <td>20</td>\n      <td>-50</td>\n    </tr>\n    <tr>\n      <th>9991</th>\n      <td>9992</td>\n      <td>2022-08-07</td>\n      <td>Standard Class</td>\n      <td>Consumer</td>\n      <td>United States</td>\n      <td>Costa Mesa</td>\n      <td>California</td>\n      <td>92627</td>\n      <td>West</td>\n      <td>Technology</td>\n      <td>Phones</td>\n      <td>TEC-PH-10003645</td>\n      <td>2</td>\n      <td>5.2</td>\n      <td>40</td>\n      <td>-180</td>\n    </tr>\n    <tr>\n      <th>9992</th>\n      <td>9993</td>\n      <td>2022-11-19</td>\n      <td>Standard Class</td>\n      <td>Consumer</td>\n      <td>United States</td>\n      <td>Costa Mesa</td>\n      <td>California</td>\n      <td>92627</td>\n      <td>West</td>\n      <td>Office Supplies</td>\n      <td>Paper</td>\n      <td>OFF-PA-10004041</td>\n      <td>4</td>\n      <td>0.9</td>\n      <td>0</td>\n      <td>-30</td>\n    </tr>\n    <tr>\n      <th>9993</th>\n      <td>9994</td>\n      <td>2022-07-17</td>\n      <td>Second Class</td>\n      <td>Consumer</td>\n      <td>United States</td>\n      <td>Westminster</td>\n      <td>California</td>\n      <td>92683</td>\n      <td>West</td>\n      <td>Office Supplies</td>\n      <td>Appliances</td>\n      <td>OFF-AP-10002684</td>\n      <td>2</td>\n      <td>7.2</td>\n      <td>30</td>\n      <td>-180</td>\n    </tr>\n  </tbody>\n</table>\n<p>9994 rows × 16 columns</p>\n</div>"
     },
     "execution_count": 15,
     "metadata": {},
     "output_type": "execute_result"
    }
   ],
   "source": [
    "df"
   ],
   "metadata": {
    "collapsed": false,
    "ExecuteTime": {
     "end_time": "2024-05-30T06:26:20.914160700Z",
     "start_time": "2024-05-30T06:26:20.815147800Z"
    }
   },
   "id": "9c73e9c0c695a73a"
  },
  {
   "cell_type": "code",
   "execution_count": 26,
   "outputs": [
    {
     "name": "stderr",
     "output_type": "stream",
     "text": [
      "WARNING: There was an error checking the latest version of pip.\n"
     ]
    },
    {
     "name": "stdout",
     "output_type": "stream",
     "text": [
      "Collecting psycopg2-binary\n",
      "  Obtaining dependency information for psycopg2-binary from https://files.pythonhosted.org/packages/25/1f/7ae31759142999a8d06b3e250c1346c4abcdcada8fa884376775dc1de686/psycopg2_binary-2.9.9-cp311-cp311-win_amd64.whl.metadata\n",
      "  Downloading psycopg2_binary-2.9.9-cp311-cp311-win_amd64.whl.metadata (4.6 kB)\n",
      "Downloading psycopg2_binary-2.9.9-cp311-cp311-win_amd64.whl (1.2 MB)\n",
      "   ---------------------------------------- 0.0/1.2 MB ? eta -:--:--\n",
      "   ---------------------------------------- 0.0/1.2 MB ? eta -:--:--\n",
      "   - -------------------------------------- 0.0/1.2 MB 445.2 kB/s eta 0:00:03\n",
      "   -- ------------------------------------- 0.1/1.2 MB 656.4 kB/s eta 0:00:02\n",
      "   ------- -------------------------------- 0.2/1.2 MB 1.5 MB/s eta 0:00:01\n",
      "   ----------------- ---------------------- 0.5/1.2 MB 2.6 MB/s eta 0:00:01\n",
      "   ---------------------------------------  1.2/1.2 MB 4.9 MB/s eta 0:00:01\n",
      "   ---------------------------------------- 1.2/1.2 MB 4.6 MB/s eta 0:00:00\n",
      "Installing collected packages: psycopg2-binary\n",
      "Successfully installed psycopg2-binary-2.9.9\n"
     ]
    }
   ],
   "source": [
    "#!pip install psycopg2-binary\n"
   ],
   "metadata": {
    "collapsed": false,
    "ExecuteTime": {
     "end_time": "2024-05-29T18:31:18.512270900Z",
     "start_time": "2024-05-29T18:31:12.520336700Z"
    }
   },
   "id": "1ed344e590e3e23b"
  },
  {
   "cell_type": "code",
   "execution_count": 29,
   "outputs": [
    {
     "name": "stdout",
     "output_type": "stream",
     "text": [
      "Collecting SQLAlchemy"
     ]
    },
    {
     "name": "stderr",
     "output_type": "stream",
     "text": [
      "WARNING: There was an error checking the latest version of pip.\n"
     ]
    },
    {
     "name": "stdout",
     "output_type": "stream",
     "text": [
      "\n",
      "  Obtaining dependency information for SQLAlchemy from https://files.pythonhosted.org/packages/74/9a/eec023807ae78e83342567303916b34a348d9d40703e7cef5dfb1e3635b6/SQLAlchemy-2.0.30-cp311-cp311-win_amd64.whl.metadata\n",
      "  Downloading SQLAlchemy-2.0.30-cp311-cp311-win_amd64.whl.metadata (9.8 kB)\n",
      "Requirement already satisfied: typing-extensions>=4.6.0 in c:\\users\\malli\\pycharmprojects\\lorentzian_classification\\venv\\lib\\site-packages (from SQLAlchemy) (4.9.0)\n",
      "Requirement already satisfied: greenlet!=0.4.17 in c:\\users\\malli\\pycharmprojects\\lorentzian_classification\\venv\\lib\\site-packages (from SQLAlchemy) (3.0.3)\n",
      "Downloading SQLAlchemy-2.0.30-cp311-cp311-win_amd64.whl (2.1 MB)\n",
      "   ---------------------------------------- 0.0/2.1 MB ? eta -:--:--\n",
      "   ---------------------------------------- 0.0/2.1 MB ? eta -:--:--\n",
      "   - -------------------------------------- 0.1/2.1 MB 975.2 kB/s eta 0:00:03\n",
      "   ----------- ---------------------------- 0.6/2.1 MB 5.3 MB/s eta 0:00:01\n",
      "   ------------- -------------------------- 0.7/2.1 MB 4.4 MB/s eta 0:00:01\n",
      "   ------------------------- -------------- 1.3/2.1 MB 6.5 MB/s eta 0:00:01\n",
      "   ---------------------------------------  2.1/2.1 MB 8.8 MB/s eta 0:00:01\n",
      "   ---------------------------------------- 2.1/2.1 MB 8.3 MB/s eta 0:00:00\n",
      "Installing collected packages: SQLAlchemy\n",
      "Successfully installed SQLAlchemy-2.0.30\n"
     ]
    }
   ],
   "source": [
    "#! pip install SQLAlchemy\n"
   ],
   "metadata": {
    "collapsed": false,
    "ExecuteTime": {
     "end_time": "2024-05-29T18:36:48.110977500Z",
     "start_time": "2024-05-29T18:36:35.799318800Z"
    }
   },
   "id": "c725048c5e7a4458"
  },
  {
   "cell_type": "code",
   "execution_count": 20,
   "outputs": [],
   "source": [
    "from sqlalchemy import create_engine\n",
    "from urllib.parse import quote\n",
    "\n",
    "# Define the connection parameters\n",
    "username = 'postgres'\n",
    "password = 'Malli@452'\n",
    "host = 'localhost'\n",
    "port = '5432'\n",
    "database = 'Project'\n",
    "\n",
    "# URL encode the password\n",
    "encoded_password = quote(password)\n",
    "\n",
    "# Create the connection string using the formatted string\n",
    "connection_string = f'postgresql+psycopg2://{username}:{encoded_password}@{host}:{port}/{database}'\n",
    "\n",
    "# Create the engine\n",
    "engine = create_engine(connection_string)\n"
   ],
   "metadata": {
    "collapsed": false,
    "ExecuteTime": {
     "end_time": "2024-05-30T06:28:42.067625100Z",
     "start_time": "2024-05-30T06:28:42.015344200Z"
    }
   },
   "id": "e0a532f52b3f6344"
  },
  {
   "cell_type": "code",
   "execution_count": 22,
   "outputs": [
    {
     "data": {
      "text/plain": "994"
     },
     "execution_count": 22,
     "metadata": {},
     "output_type": "execute_result"
    }
   ],
   "source": [
    "df.to_sql('orders',engine)"
   ],
   "metadata": {
    "collapsed": false,
    "ExecuteTime": {
     "end_time": "2024-05-30T06:32:17.557982800Z",
     "start_time": "2024-05-30T06:32:15.578756100Z"
    }
   },
   "id": "d55f8b8760eb651d"
  },
  {
   "cell_type": "code",
   "execution_count": 34,
   "outputs": [
    {
     "data": {
      "text/plain": "994"
     },
     "execution_count": 34,
     "metadata": {},
     "output_type": "execute_result"
    }
   ],
   "source": [
    "df.to_sql('orders', con=engine, if_exists='append', index=False)"
   ],
   "metadata": {
    "collapsed": false,
    "ExecuteTime": {
     "end_time": "2024-05-30T07:06:29.704009200Z",
     "start_time": "2024-05-30T07:06:27.674511900Z"
    }
   },
   "id": "5f8578066311e440"
  },
  {
   "cell_type": "code",
   "execution_count": null,
   "outputs": [],
   "source": [],
   "metadata": {
    "collapsed": false
   },
   "id": "a935da57fcaaf933"
  },
  {
   "cell_type": "markdown",
   "source": [],
   "metadata": {
    "collapsed": false
   },
   "id": "b634ebceb6aac635"
  }
 ],
 "metadata": {
  "kernelspec": {
   "display_name": "Python 3",
   "language": "python",
   "name": "python3"
  },
  "language_info": {
   "codemirror_mode": {
    "name": "ipython",
    "version": 2
   },
   "file_extension": ".py",
   "mimetype": "text/x-python",
   "name": "python",
   "nbconvert_exporter": "python",
   "pygments_lexer": "ipython2",
   "version": "2.7.6"
  }
 },
 "nbformat": 4,
 "nbformat_minor": 5
}
